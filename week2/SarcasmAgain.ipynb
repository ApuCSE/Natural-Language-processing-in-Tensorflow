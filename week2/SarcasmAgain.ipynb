{
  "nbformat": 4,
  "nbformat_minor": 0,
  "metadata": {
    "colab": {
      "name": "SarcasmAgain.ipynb",
      "provenance": [],
      "collapsed_sections": []
    },
    "kernelspec": {
      "name": "python3",
      "display_name": "Python 3"
    }
  },
  "cells": [
    {
      "cell_type": "code",
      "metadata": {
        "id": "gcLF8dNzVvpl",
        "colab_type": "code",
        "colab": {
          "base_uri": "https://localhost:8080/",
          "height": 204
        },
        "outputId": "fdf2ff4b-6c29-4a33-be69-867eddeb40a8"
      },
      "source": [
        "!wget --no-check-certificate \\\n",
        "    https://storage.googleapis.com/laurencemoroney-blog.appspot.com/sarcasm.json \\\n",
        "    -O /tmp/sarcasm.json"
      ],
      "execution_count": 1,
      "outputs": [
        {
          "output_type": "stream",
          "text": [
            "--2020-05-06 14:49:42--  https://storage.googleapis.com/laurencemoroney-blog.appspot.com/sarcasm.json\n",
            "Resolving storage.googleapis.com (storage.googleapis.com)... 108.177.126.128, 2a00:1450:4013:c03::80\n",
            "Connecting to storage.googleapis.com (storage.googleapis.com)|108.177.126.128|:443... connected.\n",
            "HTTP request sent, awaiting response... 200 OK\n",
            "Length: 5643545 (5.4M) [application/json]\n",
            "Saving to: ‘/tmp/sarcasm.json’\n",
            "\n",
            "\r/tmp/sarcasm.json     0%[                    ]       0  --.-KB/s               \r/tmp/sarcasm.json   100%[===================>]   5.38M  --.-KB/s    in 0.05s   \n",
            "\n",
            "2020-05-06 14:49:42 (101 MB/s) - ‘/tmp/sarcasm.json’ saved [5643545/5643545]\n",
            "\n"
          ],
          "name": "stdout"
        }
      ]
    },
    {
      "cell_type": "code",
      "metadata": {
        "id": "ZUlj1krTdrFY",
        "colab_type": "code",
        "colab": {
          "base_uri": "https://localhost:8080/",
          "height": 34
        },
        "outputId": "a69035a3-5496-4a4f-867b-421685c404c1"
      },
      "source": [
        "cd /tmp"
      ],
      "execution_count": 3,
      "outputs": [
        {
          "output_type": "stream",
          "text": [
            "/tmp\n"
          ],
          "name": "stdout"
        }
      ]
    },
    {
      "cell_type": "code",
      "metadata": {
        "id": "EUIgS28ed7wr",
        "colab_type": "code",
        "colab": {}
      },
      "source": [
        "import json\n",
        "import tensorflow as tf\n",
        "from tensorflow import keras\n",
        "from tensorflow.keras.preprocessing.text import Tokenizer\n",
        "from tensorflow.keras.preprocessing.sequence import pad_sequences"
      ],
      "execution_count": 0,
      "outputs": []
    },
    {
      "cell_type": "code",
      "metadata": {
        "id": "4mMU2j9MeFUa",
        "colab_type": "code",
        "colab": {}
      },
      "source": [
        "vocab_size = 10000\n",
        "embedding_dim = 16\n",
        "max_length = 32\n",
        "trunc_type = 'post'\n",
        "padding_type = 'post'\n",
        "oov_tok = \"<UNK>\"\n",
        "training_size = 20000"
      ],
      "execution_count": 0,
      "outputs": []
    },
    {
      "cell_type": "code",
      "metadata": {
        "id": "lBYNWKBreeN-",
        "colab_type": "code",
        "colab": {}
      },
      "source": [
        "with open(\"sarcasm.json\",'r') as f:\n",
        "  datastore = json.load(f)\n",
        "\n",
        "sentences=[]\n",
        "labels=[]\n",
        "urls=[]\n",
        "\n",
        "for item in datastore:\n",
        "  sentences.append(item['headline'])\n",
        "  labels.append(item['is_sarcastic'])\n",
        "  urls.append(item['article_link'])"
      ],
      "execution_count": 0,
      "outputs": []
    },
    {
      "cell_type": "code",
      "metadata": {
        "id": "1cP-oIwxes3N",
        "colab_type": "code",
        "colab": {}
      },
      "source": [
        "training_sentences = sentences[0:training_size]\n",
        "training_labels = labels[0:training_size]\n",
        "\n",
        "testing_sentences = sentences[training_size:]\n",
        "testing_labels = labels[training_size:]"
      ],
      "execution_count": 0,
      "outputs": []
    },
    {
      "cell_type": "code",
      "metadata": {
        "id": "aYpU0FYnfO_s",
        "colab_type": "code",
        "colab": {}
      },
      "source": [
        "tokenizer = Tokenizer(num_words= vocab_size, oov_token=oov_tok)\n",
        "tokenizer.fit_on_texts(training_sentences)\n",
        "word_index = tokenizer.word_index"
      ],
      "execution_count": 0,
      "outputs": []
    },
    {
      "cell_type": "code",
      "metadata": {
        "id": "MyLkYnmnfkmA",
        "colab_type": "code",
        "colab": {}
      },
      "source": [
        "training_sequences = tokenizer.texts_to_sequences(training_sentences)\n",
        "training_padded = pad_sequences(training_sequences, maxlen = max_length, padding=padding_type, truncating= trunc_type)"
      ],
      "execution_count": 0,
      "outputs": []
    },
    {
      "cell_type": "code",
      "metadata": {
        "id": "0vcwpEhWgGqf",
        "colab_type": "code",
        "colab": {}
      },
      "source": [
        "testing_sequences = tokenizer.texts_to_sequences(testing_sentences)\n",
        "testing_padded = pad_sequences(testing_sequences, maxlen = max_length, padding=padding_type, truncating= trunc_type)"
      ],
      "execution_count": 0,
      "outputs": []
    },
    {
      "cell_type": "code",
      "metadata": {
        "id": "TQzb13MRgZYi",
        "colab_type": "code",
        "colab": {}
      },
      "source": [
        "model = tf.keras.Sequential([\n",
        "                             tf.keras.layers.Embedding(vocab_size, embedding_dim,input_length= max_length),\n",
        "                             tf.keras.layers.GlobalAveragePooling1D(),\n",
        "                             tf.keras.layers.Dense(24, activation = 'relu'),\n",
        "                             tf.keras.layers.Dense(1, activation='sigmoid')\n",
        "                             \n",
        "])\n"
      ],
      "execution_count": 0,
      "outputs": []
    },
    {
      "cell_type": "code",
      "metadata": {
        "id": "36LbEXWSpXtR",
        "colab_type": "code",
        "colab": {
          "base_uri": "https://localhost:8080/",
          "height": 289
        },
        "outputId": "37d64941-b622-4e1f-c0f8-090de9a94fc6"
      },
      "source": [
        "model.compile(loss='binary_crossentropy', optimizer='adam', metrics = ['accuracy'])\n",
        "\n",
        "model.summary()"
      ],
      "execution_count": 48,
      "outputs": [
        {
          "output_type": "stream",
          "text": [
            "Model: \"sequential_3\"\n",
            "_________________________________________________________________\n",
            "Layer (type)                 Output Shape              Param #   \n",
            "=================================================================\n",
            "embedding_3 (Embedding)      (None, 32, 16)            160000    \n",
            "_________________________________________________________________\n",
            "global_average_pooling1d_3 ( (None, 16)                0         \n",
            "_________________________________________________________________\n",
            "dense_6 (Dense)              (None, 24)                408       \n",
            "_________________________________________________________________\n",
            "dense_7 (Dense)              (None, 1)                 25        \n",
            "=================================================================\n",
            "Total params: 160,433\n",
            "Trainable params: 160,433\n",
            "Non-trainable params: 0\n",
            "_________________________________________________________________\n"
          ],
          "name": "stdout"
        }
      ]
    },
    {
      "cell_type": "code",
      "metadata": {
        "id": "C-VIsLxyptA1",
        "colab_type": "code",
        "colab": {
          "base_uri": "https://localhost:8080/",
          "height": 1000
        },
        "outputId": "d9325d4e-d228-42f1-c077-14254c45a0c0"
      },
      "source": [
        "import numpy as np\n",
        "num_epochs= 30\n",
        "history = model.fit(np.array(training_padded), \n",
        "          np.array(training_labels), \n",
        "          epochs= num_epochs,\n",
        "          validation_data = (np.array(testing_padded), np.array(testing_labels)),\n",
        "          verbose = 2\n",
        ")"
      ],
      "execution_count": 49,
      "outputs": [
        {
          "output_type": "stream",
          "text": [
            "Epoch 1/30\n",
            "625/625 - 2s - loss: 0.5664 - accuracy: 0.7059 - val_loss: 0.3989 - val_accuracy: 0.8383\n",
            "Epoch 2/30\n",
            "625/625 - 2s - loss: 0.3132 - accuracy: 0.8715 - val_loss: 0.3450 - val_accuracy: 0.8496\n",
            "Epoch 3/30\n",
            "625/625 - 2s - loss: 0.2342 - accuracy: 0.9083 - val_loss: 0.3442 - val_accuracy: 0.8504\n",
            "Epoch 4/30\n",
            "625/625 - 2s - loss: 0.1894 - accuracy: 0.9269 - val_loss: 0.3624 - val_accuracy: 0.8544\n",
            "Epoch 5/30\n",
            "625/625 - 2s - loss: 0.1563 - accuracy: 0.9419 - val_loss: 0.3926 - val_accuracy: 0.8475\n",
            "Epoch 6/30\n",
            "625/625 - 2s - loss: 0.1330 - accuracy: 0.9518 - val_loss: 0.4394 - val_accuracy: 0.8405\n",
            "Epoch 7/30\n",
            "625/625 - 2s - loss: 0.1126 - accuracy: 0.9614 - val_loss: 0.4691 - val_accuracy: 0.8386\n",
            "Epoch 8/30\n",
            "625/625 - 2s - loss: 0.0972 - accuracy: 0.9675 - val_loss: 0.5199 - val_accuracy: 0.8340\n",
            "Epoch 9/30\n",
            "625/625 - 2s - loss: 0.0840 - accuracy: 0.9715 - val_loss: 0.5508 - val_accuracy: 0.8386\n",
            "Epoch 10/30\n",
            "625/625 - 2s - loss: 0.0740 - accuracy: 0.9766 - val_loss: 0.5990 - val_accuracy: 0.8360\n",
            "Epoch 11/30\n",
            "625/625 - 2s - loss: 0.0635 - accuracy: 0.9797 - val_loss: 0.6506 - val_accuracy: 0.8272\n",
            "Epoch 12/30\n",
            "625/625 - 2s - loss: 0.0554 - accuracy: 0.9822 - val_loss: 0.7087 - val_accuracy: 0.8265\n",
            "Epoch 13/30\n",
            "625/625 - 2s - loss: 0.0487 - accuracy: 0.9850 - val_loss: 0.7567 - val_accuracy: 0.8240\n",
            "Epoch 14/30\n",
            "625/625 - 2s - loss: 0.0427 - accuracy: 0.9877 - val_loss: 0.8419 - val_accuracy: 0.8170\n",
            "Epoch 15/30\n",
            "625/625 - 2s - loss: 0.0371 - accuracy: 0.9892 - val_loss: 0.8724 - val_accuracy: 0.8180\n",
            "Epoch 16/30\n",
            "625/625 - 2s - loss: 0.0331 - accuracy: 0.9902 - val_loss: 0.9343 - val_accuracy: 0.8171\n",
            "Epoch 17/30\n",
            "625/625 - 2s - loss: 0.0285 - accuracy: 0.9922 - val_loss: 0.9986 - val_accuracy: 0.8117\n",
            "Epoch 18/30\n",
            "625/625 - 2s - loss: 0.0249 - accuracy: 0.9926 - val_loss: 1.0635 - val_accuracy: 0.8117\n",
            "Epoch 19/30\n",
            "625/625 - 2s - loss: 0.0210 - accuracy: 0.9947 - val_loss: 1.1202 - val_accuracy: 0.8113\n",
            "Epoch 20/30\n",
            "625/625 - 2s - loss: 0.0198 - accuracy: 0.9947 - val_loss: 1.1758 - val_accuracy: 0.8073\n",
            "Epoch 21/30\n",
            "625/625 - 2s - loss: 0.0177 - accuracy: 0.9948 - val_loss: 1.2578 - val_accuracy: 0.8079\n",
            "Epoch 22/30\n",
            "625/625 - 2s - loss: 0.0155 - accuracy: 0.9958 - val_loss: 1.3056 - val_accuracy: 0.8071\n",
            "Epoch 23/30\n",
            "625/625 - 2s - loss: 0.0154 - accuracy: 0.9953 - val_loss: 1.3499 - val_accuracy: 0.8077\n",
            "Epoch 24/30\n",
            "625/625 - 2s - loss: 0.0129 - accuracy: 0.9965 - val_loss: 1.4264 - val_accuracy: 0.8071\n",
            "Epoch 25/30\n",
            "625/625 - 2s - loss: 0.0126 - accuracy: 0.9962 - val_loss: 1.5179 - val_accuracy: 0.8044\n",
            "Epoch 26/30\n",
            "625/625 - 2s - loss: 0.0117 - accuracy: 0.9967 - val_loss: 1.5253 - val_accuracy: 0.8058\n",
            "Epoch 27/30\n",
            "625/625 - 2s - loss: 0.0098 - accuracy: 0.9974 - val_loss: 1.5814 - val_accuracy: 0.8047\n",
            "Epoch 28/30\n",
            "625/625 - 2s - loss: 0.0099 - accuracy: 0.9972 - val_loss: 1.6619 - val_accuracy: 0.8019\n",
            "Epoch 29/30\n",
            "625/625 - 2s - loss: 0.0083 - accuracy: 0.9976 - val_loss: 1.7204 - val_accuracy: 0.8043\n",
            "Epoch 30/30\n",
            "625/625 - 2s - loss: 0.0083 - accuracy: 0.9976 - val_loss: 1.7664 - val_accuracy: 0.8028\n"
          ],
          "name": "stdout"
        }
      ]
    },
    {
      "cell_type": "code",
      "metadata": {
        "id": "SeDvrmUCqHHp",
        "colab_type": "code",
        "colab": {
          "base_uri": "https://localhost:8080/",
          "height": 541
        },
        "outputId": "1cb37f87-348a-4902-c182-e4c81068a898"
      },
      "source": [
        "import matplotlib.pyplot as plt\n",
        "\n",
        "def plot_graphs(history, string):\n",
        "  plt.plot(history.history[string])\n",
        "  plt.plot(history.history['val_'+ string])\n",
        "  plt.xlabel(\"Epochs\")\n",
        "  plt.ylabel(string)\n",
        "  plt.legend([string, 'val_'+string])\n",
        "  plt.show()\n",
        "\n",
        "plot_graphs(history, 'accuracy')\n",
        "plot_graphs(history, 'loss')\n"
      ],
      "execution_count": 50,
      "outputs": [
        {
          "output_type": "display_data",
          "data": {
            "image/png": "[encoded data removed]",
            "text/plain": [
              "<Figure size 432x288 with 1 Axes>"
            ]
          },
          "metadata": {
            "tags": [],
            "needs_background": "light"
          }
        },
        {
          "output_type": "display_data",
          "data": {
            "image/png": "[encoded data removed]",
            "text/plain": [
              "<Figure size 432x288 with 1 Axes>"
            ]
          },
          "metadata": {
            "tags": [],
            "needs_background": "light"
          }
        }
      ]
    },
    {
      "cell_type": "code",
      "metadata": {
        "id": "CQKf9QvftZvu",
        "colab_type": "code",
        "colab": {}
      },
      "source": [
        ""
      ],
      "execution_count": 0,
      "outputs": []
    }
  ]
}