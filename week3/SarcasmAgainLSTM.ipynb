{
  "nbformat": 4,
  "nbformat_minor": 0,
  "metadata": {
    "colab": {
      "name": "SarcasmAgainLSTM.ipynb",
      "provenance": [],
      "collapsed_sections": []
    },
    "kernelspec": {
      "name": "python3",
      "display_name": "Python 3"
    },
    "accelerator": "GPU"
  },
  "cells": [
    {
      "cell_type": "code",
      "metadata": {
        "id": "szPMrcUPWbpq",
        "colab_type": "code",
        "colab": {
          "base_uri": "https://localhost:8080/",
          "height": 204
        },
        "outputId": "81c2fe37-1d8f-42d7-d343-07ac0a40db6e"
      },
      "source": [
        "!wget --no-check-certificate \\\n",
        "    https://storage.googleapis.com/laurencemoroney-blog.appspot.com/sarcasm.json \\\n",
        "    -O /tmp/sarcasm.json"
      ],
      "execution_count": 1,
      "outputs": [
        {
          "output_type": "stream",
          "text": [
            "--2020-05-09 02:59:23--  https://storage.googleapis.com/laurencemoroney-blog.appspot.com/sarcasm.json\n",
            "Resolving storage.googleapis.com (storage.googleapis.com)... 108.177.119.128, 2a00:1450:4013:c00::80\n",
            "Connecting to storage.googleapis.com (storage.googleapis.com)|108.177.119.128|:443... connected.\n",
            "HTTP request sent, awaiting response... 200 OK\n",
            "Length: 5643545 (5.4M) [application/json]\n",
            "Saving to: ‘/tmp/sarcasm.json’\n",
            "\n",
            "\r/tmp/sarcasm.json     0%[                    ]       0  --.-KB/s               \r/tmp/sarcasm.json    74%[=============>      ]   4.01M  18.4MB/s               \r/tmp/sarcasm.json   100%[===================>]   5.38M  23.3MB/s    in 0.2s    \n",
            "\n",
            "2020-05-09 02:59:23 (23.3 MB/s) - ‘/tmp/sarcasm.json’ saved [5643545/5643545]\n",
            "\n"
          ],
          "name": "stdout"
        }
      ]
    },
    {
      "cell_type": "code",
      "metadata": {
        "id": "1xtyacfJX3bb",
        "colab_type": "code",
        "colab": {}
      },
      "source": [
        "import json\n",
        "import tensorflow as tf\n",
        "from tensorflow import keras\n",
        "from tensorflow.keras.preprocessing.text import Tokenizer\n",
        "from tensorflow.keras.preprocessing.sequence import pad_sequences"
      ],
      "execution_count": 0,
      "outputs": []
    },
    {
      "cell_type": "code",
      "metadata": {
        "id": "Ijd9ZQYUYL5-",
        "colab_type": "code",
        "colab": {}
      },
      "source": [
        "vocab_size = 10000\n",
        "embedding_dim = 16\n",
        "max_length = 32\n",
        "trunc_type = 'post'\n",
        "padding_type = 'post'\n",
        "oov_tok = \"<UNK>\"\n",
        "training_size = 20000"
      ],
      "execution_count": 0,
      "outputs": []
    },
    {
      "cell_type": "code",
      "metadata": {
        "id": "GU8qt1YiYOsY",
        "colab_type": "code",
        "colab": {}
      },
      "source": [
        "with open(\"/tmp/sarcasm.json\",'r') as f:\n",
        "  datastore = json.load(f)\n",
        "\n",
        "sentences=[]\n",
        "labels=[]\n",
        "urls=[]\n",
        "\n",
        "for item in datastore:\n",
        "  sentences.append(item['headline'])\n",
        "  labels.append(item['is_sarcastic'])\n",
        "  urls.append(item['article_link'])"
      ],
      "execution_count": 0,
      "outputs": []
    },
    {
      "cell_type": "code",
      "metadata": {
        "id": "K_ulH-9eYT5j",
        "colab_type": "code",
        "colab": {}
      },
      "source": [
        "training_sentences = sentences[0:training_size]\n",
        "training_labels = labels[0:training_size]\n",
        "\n",
        "testing_sentences = sentences[training_size:]\n",
        "testing_labels = labels[training_size:]"
      ],
      "execution_count": 0,
      "outputs": []
    },
    {
      "cell_type": "code",
      "metadata": {
        "id": "ohdx7LPLYYTj",
        "colab_type": "code",
        "colab": {}
      },
      "source": [
        "tokenizer = Tokenizer(num_words= vocab_size, oov_token=oov_tok)\n",
        "tokenizer.fit_on_texts(training_sentences)\n",
        "word_index = tokenizer.word_index"
      ],
      "execution_count": 0,
      "outputs": []
    },
    {
      "cell_type": "code",
      "metadata": {
        "id": "lO2StQZEYaoY",
        "colab_type": "code",
        "colab": {}
      },
      "source": [
        "training_sequences = tokenizer.texts_to_sequences(training_sentences)\n",
        "training_padded = pad_sequences(training_sequences, maxlen = max_length, padding=padding_type, truncating= trunc_type)"
      ],
      "execution_count": 0,
      "outputs": []
    },
    {
      "cell_type": "code",
      "metadata": {
        "id": "A2VvbGbVYc5I",
        "colab_type": "code",
        "colab": {}
      },
      "source": [
        "testing_sequences = tokenizer.texts_to_sequences(testing_sentences)\n",
        "testing_padded = pad_sequences(testing_sequences, maxlen = max_length, padding=padding_type, truncating= trunc_type)"
      ],
      "execution_count": 0,
      "outputs": []
    },
    {
      "cell_type": "code",
      "metadata": {
        "id": "sAMvpHfPYgQI",
        "colab_type": "code",
        "colab": {}
      },
      "source": [
        "model = tf.keras.Sequential([\n",
        "                             tf.keras.layers.Embedding(vocab_size, embedding_dim,input_length= max_length),\n",
        "                             tf.keras.layers.Bidirectional(tf.keras.layers.LSTM(32)),\n",
        "                             tf.keras.layers.Dense(24, activation = 'relu'),\n",
        "                             tf.keras.layers.Dense(1, activation='sigmoid')\n",
        "                             \n",
        "])\n"
      ],
      "execution_count": 0,
      "outputs": []
    },
    {
      "cell_type": "code",
      "metadata": {
        "id": "aom7CAbjY6U2",
        "colab_type": "code",
        "colab": {
          "base_uri": "https://localhost:8080/",
          "height": 289
        },
        "outputId": "cbfd064b-9d98-44ad-8b98-1c810009c4d1"
      },
      "source": [
        "model.compile(loss='binary_crossentropy', optimizer='adam', metrics = ['accuracy'])\n",
        "\n",
        "model.summary()"
      ],
      "execution_count": 11,
      "outputs": [
        {
          "output_type": "stream",
          "text": [
            "Model: \"sequential\"\n",
            "_________________________________________________________________\n",
            "Layer (type)                 Output Shape              Param #   \n",
            "=================================================================\n",
            "embedding (Embedding)        (None, 32, 16)            160000    \n",
            "_________________________________________________________________\n",
            "bidirectional (Bidirectional (None, 64)                12544     \n",
            "_________________________________________________________________\n",
            "dense (Dense)                (None, 24)                1560      \n",
            "_________________________________________________________________\n",
            "dense_1 (Dense)              (None, 1)                 25        \n",
            "=================================================================\n",
            "Total params: 174,129\n",
            "Trainable params: 174,129\n",
            "Non-trainable params: 0\n",
            "_________________________________________________________________\n"
          ],
          "name": "stdout"
        }
      ]
    },
    {
      "cell_type": "code",
      "metadata": {
        "id": "YC-uuy8oZNT0",
        "colab_type": "code",
        "colab": {
          "base_uri": "https://localhost:8080/",
          "height": 1000
        },
        "outputId": "5fefa2f9-75fe-4071-e60e-bbe7150c154c"
      },
      "source": [
        "import numpy as np\n",
        "num_epochs= 30\n",
        "history = model.fit(np.array(training_padded), \n",
        "          np.array(training_labels), \n",
        "          epochs= num_epochs,\n",
        "          validation_data = (np.array(testing_padded), np.array(testing_labels)),\n",
        "          verbose = 2\n",
        ")"
      ],
      "execution_count": 12,
      "outputs": [
        {
          "output_type": "stream",
          "text": [
            "Epoch 1/30\n",
            "625/625 - 6s - loss: 0.4089 - accuracy: 0.7957 - val_loss: 0.3317 - val_accuracy: 0.8550\n",
            "Epoch 2/30\n",
            "625/625 - 5s - loss: 0.2201 - accuracy: 0.9096 - val_loss: 0.3338 - val_accuracy: 0.8577\n",
            "Epoch 3/30\n",
            "625/625 - 5s - loss: 0.1416 - accuracy: 0.9462 - val_loss: 0.4160 - val_accuracy: 0.8512\n",
            "Epoch 4/30\n",
            "625/625 - 5s - loss: 0.0845 - accuracy: 0.9706 - val_loss: 0.4933 - val_accuracy: 0.8459\n",
            "Epoch 5/30\n",
            "625/625 - 6s - loss: 0.0540 - accuracy: 0.9817 - val_loss: 0.6210 - val_accuracy: 0.8416\n",
            "Epoch 6/30\n",
            "625/625 - 6s - loss: 0.0339 - accuracy: 0.9894 - val_loss: 0.7592 - val_accuracy: 0.8371\n",
            "Epoch 7/30\n",
            "625/625 - 5s - loss: 0.0233 - accuracy: 0.9920 - val_loss: 0.7884 - val_accuracy: 0.8351\n",
            "Epoch 8/30\n",
            "625/625 - 5s - loss: 0.0178 - accuracy: 0.9943 - val_loss: 0.9404 - val_accuracy: 0.8307\n",
            "Epoch 9/30\n",
            "625/625 - 5s - loss: 0.0114 - accuracy: 0.9962 - val_loss: 1.0733 - val_accuracy: 0.8299\n",
            "Epoch 10/30\n",
            "625/625 - 6s - loss: 0.0098 - accuracy: 0.9969 - val_loss: 1.1074 - val_accuracy: 0.8280\n",
            "Epoch 11/30\n",
            "625/625 - 5s - loss: 0.0082 - accuracy: 0.9974 - val_loss: 1.1594 - val_accuracy: 0.8293\n",
            "Epoch 12/30\n",
            "625/625 - 5s - loss: 0.0077 - accuracy: 0.9976 - val_loss: 1.1564 - val_accuracy: 0.8295\n",
            "Epoch 13/30\n",
            "625/625 - 5s - loss: 0.0107 - accuracy: 0.9965 - val_loss: 1.0903 - val_accuracy: 0.8277\n",
            "Epoch 14/30\n",
            "625/625 - 6s - loss: 0.0058 - accuracy: 0.9982 - val_loss: 1.1749 - val_accuracy: 0.8281\n",
            "Epoch 15/30\n",
            "625/625 - 6s - loss: 0.0052 - accuracy: 0.9985 - val_loss: 1.3546 - val_accuracy: 0.8220\n",
            "Epoch 16/30\n",
            "625/625 - 5s - loss: 0.0051 - accuracy: 0.9985 - val_loss: 1.3448 - val_accuracy: 0.8268\n",
            "Epoch 17/30\n",
            "625/625 - 5s - loss: 0.0029 - accuracy: 0.9994 - val_loss: 1.3684 - val_accuracy: 0.8223\n",
            "Epoch 18/30\n",
            "625/625 - 5s - loss: 0.0028 - accuracy: 0.9991 - val_loss: 1.4766 - val_accuracy: 0.8244\n",
            "Epoch 19/30\n",
            "625/625 - 5s - loss: 0.0046 - accuracy: 0.9983 - val_loss: 1.2590 - val_accuracy: 0.8281\n",
            "Epoch 20/30\n",
            "625/625 - 5s - loss: 0.0036 - accuracy: 0.9988 - val_loss: 1.2662 - val_accuracy: 0.8250\n",
            "Epoch 21/30\n",
            "625/625 - 5s - loss: 0.0040 - accuracy: 0.9986 - val_loss: 1.3988 - val_accuracy: 0.8261\n",
            "Epoch 22/30\n",
            "625/625 - 5s - loss: 0.0034 - accuracy: 0.9989 - val_loss: 1.3986 - val_accuracy: 0.8277\n",
            "Epoch 23/30\n",
            "625/625 - 5s - loss: 0.0017 - accuracy: 0.9996 - val_loss: 1.5400 - val_accuracy: 0.8256\n",
            "Epoch 24/30\n",
            "625/625 - 5s - loss: 0.0015 - accuracy: 0.9997 - val_loss: 1.6246 - val_accuracy: 0.8244\n",
            "Epoch 25/30\n",
            "625/625 - 5s - loss: 0.0018 - accuracy: 0.9992 - val_loss: 1.6941 - val_accuracy: 0.8216\n",
            "Epoch 26/30\n",
            "625/625 - 5s - loss: 0.0042 - accuracy: 0.9987 - val_loss: 1.3686 - val_accuracy: 0.8267\n",
            "Epoch 27/30\n",
            "625/625 - 5s - loss: 0.0024 - accuracy: 0.9992 - val_loss: 1.4655 - val_accuracy: 0.8271\n",
            "Epoch 28/30\n",
            "625/625 - 5s - loss: 0.0015 - accuracy: 0.9994 - val_loss: 1.4809 - val_accuracy: 0.8237\n",
            "Epoch 29/30\n",
            "625/625 - 5s - loss: 0.0010 - accuracy: 0.9995 - val_loss: 1.5521 - val_accuracy: 0.8250\n",
            "Epoch 30/30\n",
            "625/625 - 5s - loss: 6.7355e-04 - accuracy: 0.9997 - val_loss: 1.6782 - val_accuracy: 0.8252\n"
          ],
          "name": "stdout"
        }
      ]
    },
    {
      "cell_type": "code",
      "metadata": {
        "id": "bjgYUgBOcpvT",
        "colab_type": "code",
        "colab": {
          "base_uri": "https://localhost:8080/",
          "height": 542
        },
        "outputId": "160a26eb-972c-48f4-8757-1b62d35fe507"
      },
      "source": [
        "import matplotlib.pyplot as plt\n",
        "\n",
        "def plot_graphs(history, string):\n",
        "  plt.plot(history.history[string])\n",
        "  plt.plot(history.history['val_'+ string])\n",
        "  plt.xlabel(\"Epochs\")\n",
        "  plt.ylabel(string)\n",
        "  plt.legend([string, 'val_'+string])\n",
        "  plt.show()\n",
        "\n",
        "plot_graphs(history, 'accuracy')\n",
        "plot_graphs(history, 'loss')\n"
      ],
      "execution_count": 13,
      "outputs": [
        {
          "output_type": "display_data",
          "data": {
            "image/png": "[encoded data removed]",
            "text/plain": [
              "<Figure size 432x288 with 1 Axes>"
            ]
          },
          "metadata": {
            "tags": [],
            "needs_background": "light"
          }
        },
        {
          "output_type": "display_data",
          "data": {
            "image/png": "[encoded data removed]",
            "text/plain": [
              "<Figure size 432x288 with 1 Axes>"
            ]
          },
          "metadata": {
            "tags": [],
            "needs_background": "light"
          }
        }
      ]
    },
    {
      "cell_type": "code",
      "metadata": {
        "id": "3GjjuGqvZRhR",
        "colab_type": "code",
        "colab": {}
      },
      "source": [
        "model_conv = tf.keras.Sequential([\n",
        "                             tf.keras.layers.Embedding(vocab_size, embedding_dim,input_length= max_length),\n",
        "                             tf.keras.layers.Conv1D(128, 5, activation='relu'),\n",
        "                             tf.keras.layers.GlobalAveragePooling1D(),\n",
        "                             tf.keras.layers.Dense(24, activation = 'relu'),\n",
        "                             tf.keras.layers.Dense(1, activation='sigmoid')\n",
        "                             \n",
        "])"
      ],
      "execution_count": 0,
      "outputs": []
    },
    {
      "cell_type": "code",
      "metadata": {
        "id": "O8FcjekadDXo",
        "colab_type": "code",
        "colab": {
          "base_uri": "https://localhost:8080/",
          "height": 323
        },
        "outputId": "0872475c-9613-4659-c064-1cea5068e14d"
      },
      "source": [
        "model_conv.compile(loss='binary_crossentropy', optimizer='adam', metrics = ['accuracy'])\n",
        "\n",
        "model_conv.summary()"
      ],
      "execution_count": 16,
      "outputs": [
        {
          "output_type": "stream",
          "text": [
            "Model: \"sequential_1\"\n",
            "_________________________________________________________________\n",
            "Layer (type)                 Output Shape              Param #   \n",
            "=================================================================\n",
            "embedding_1 (Embedding)      (None, 32, 16)            160000    \n",
            "_________________________________________________________________\n",
            "conv1d (Conv1D)              (None, 28, 128)           10368     \n",
            "_________________________________________________________________\n",
            "global_average_pooling1d (Gl (None, 128)               0         \n",
            "_________________________________________________________________\n",
            "dense_2 (Dense)              (None, 24)                3096      \n",
            "_________________________________________________________________\n",
            "dense_3 (Dense)              (None, 1)                 25        \n",
            "=================================================================\n",
            "Total params: 173,489\n",
            "Trainable params: 173,489\n",
            "Non-trainable params: 0\n",
            "_________________________________________________________________\n"
          ],
          "name": "stdout"
        }
      ]
    },
    {
      "cell_type": "code",
      "metadata": {
        "id": "OcfkKjGgc0vn",
        "colab_type": "code",
        "colab": {
          "base_uri": "https://localhost:8080/",
          "height": 1000
        },
        "outputId": "36c86aa4-0a45-4956-8160-71fb9ab40df5"
      },
      "source": [
        "num_epochs= 30\n",
        "history = model_conv.fit(np.array(training_padded), \n",
        "          np.array(training_labels), \n",
        "          epochs= num_epochs,\n",
        "          validation_data = (np.array(testing_padded), np.array(testing_labels)),\n",
        "          verbose = 2\n",
        ")"
      ],
      "execution_count": 17,
      "outputs": [
        {
          "output_type": "stream",
          "text": [
            "Epoch 1/30\n",
            "625/625 - 3s - loss: 0.4683 - accuracy: 0.7616 - val_loss: 0.3612 - val_accuracy: 0.8408\n",
            "Epoch 2/30\n",
            "625/625 - 3s - loss: 0.2461 - accuracy: 0.8993 - val_loss: 0.3572 - val_accuracy: 0.8451\n",
            "Epoch 3/30\n",
            "625/625 - 3s - loss: 0.1667 - accuracy: 0.9356 - val_loss: 0.4050 - val_accuracy: 0.8451\n",
            "Epoch 4/30\n",
            "625/625 - 3s - loss: 0.1133 - accuracy: 0.9599 - val_loss: 0.4716 - val_accuracy: 0.8390\n",
            "Epoch 5/30\n",
            "625/625 - 3s - loss: 0.0704 - accuracy: 0.9772 - val_loss: 0.6338 - val_accuracy: 0.8313\n",
            "Epoch 6/30\n",
            "625/625 - 3s - loss: 0.0418 - accuracy: 0.9871 - val_loss: 0.7592 - val_accuracy: 0.8302\n",
            "Epoch 7/30\n",
            "625/625 - 3s - loss: 0.0249 - accuracy: 0.9929 - val_loss: 0.8214 - val_accuracy: 0.8286\n",
            "Epoch 8/30\n",
            "625/625 - 3s - loss: 0.0136 - accuracy: 0.9970 - val_loss: 1.0371 - val_accuracy: 0.8274\n",
            "Epoch 9/30\n",
            "625/625 - 3s - loss: 0.0086 - accuracy: 0.9981 - val_loss: 1.0618 - val_accuracy: 0.8250\n",
            "Epoch 10/30\n",
            "625/625 - 3s - loss: 0.0060 - accuracy: 0.9987 - val_loss: 1.2181 - val_accuracy: 0.8250\n",
            "Epoch 11/30\n",
            "625/625 - 3s - loss: 0.0062 - accuracy: 0.9981 - val_loss: 1.2003 - val_accuracy: 0.8253\n",
            "Epoch 12/30\n",
            "625/625 - 3s - loss: 0.0049 - accuracy: 0.9985 - val_loss: 1.3708 - val_accuracy: 0.8229\n",
            "Epoch 13/30\n",
            "625/625 - 3s - loss: 0.0027 - accuracy: 0.9992 - val_loss: 1.3716 - val_accuracy: 0.8208\n",
            "Epoch 14/30\n",
            "625/625 - 3s - loss: 0.0023 - accuracy: 0.9996 - val_loss: 1.4821 - val_accuracy: 0.8259\n",
            "Epoch 15/30\n",
            "625/625 - 3s - loss: 0.0018 - accuracy: 0.9996 - val_loss: 1.5982 - val_accuracy: 0.8229\n",
            "Epoch 16/30\n",
            "625/625 - 3s - loss: 0.0022 - accuracy: 0.9995 - val_loss: 1.7129 - val_accuracy: 0.8214\n",
            "Epoch 17/30\n",
            "625/625 - 3s - loss: 0.0027 - accuracy: 0.9992 - val_loss: 1.5700 - val_accuracy: 0.8222\n",
            "Epoch 18/30\n",
            "625/625 - 3s - loss: 0.0044 - accuracy: 0.9985 - val_loss: 1.8384 - val_accuracy: 0.8192\n",
            "Epoch 19/30\n",
            "625/625 - 3s - loss: 0.0054 - accuracy: 0.9985 - val_loss: 1.5736 - val_accuracy: 0.8198\n",
            "Epoch 20/30\n",
            "625/625 - 3s - loss: 0.0028 - accuracy: 0.9991 - val_loss: 1.6299 - val_accuracy: 0.8216\n",
            "Epoch 21/30\n",
            "625/625 - 3s - loss: 0.0039 - accuracy: 0.9987 - val_loss: 1.7564 - val_accuracy: 0.8222\n",
            "Epoch 22/30\n",
            "625/625 - 3s - loss: 0.0018 - accuracy: 0.9995 - val_loss: 1.8019 - val_accuracy: 0.8204\n",
            "Epoch 23/30\n",
            "625/625 - 3s - loss: 0.0013 - accuracy: 0.9997 - val_loss: 1.7416 - val_accuracy: 0.8219\n",
            "Epoch 24/30\n",
            "625/625 - 3s - loss: 0.0014 - accuracy: 0.9994 - val_loss: 1.7467 - val_accuracy: 0.8186\n",
            "Epoch 25/30\n",
            "625/625 - 3s - loss: 0.0017 - accuracy: 0.9994 - val_loss: 1.7936 - val_accuracy: 0.8186\n",
            "Epoch 26/30\n",
            "625/625 - 3s - loss: 0.0012 - accuracy: 0.9996 - val_loss: 1.8520 - val_accuracy: 0.8195\n",
            "Epoch 27/30\n",
            "625/625 - 3s - loss: 0.0011 - accuracy: 0.9997 - val_loss: 2.0413 - val_accuracy: 0.8195\n",
            "Epoch 28/30\n",
            "625/625 - 3s - loss: 0.0012 - accuracy: 0.9997 - val_loss: 1.9379 - val_accuracy: 0.8188\n",
            "Epoch 29/30\n",
            "625/625 - 3s - loss: 0.0015 - accuracy: 0.9994 - val_loss: 2.0833 - val_accuracy: 0.8155\n",
            "Epoch 30/30\n",
            "625/625 - 3s - loss: 0.0029 - accuracy: 0.9990 - val_loss: 1.9417 - val_accuracy: 0.8188\n"
          ],
          "name": "stdout"
        }
      ]
    },
    {
      "cell_type": "code",
      "metadata": {
        "id": "JZ61S_F-c8JP",
        "colab_type": "code",
        "colab": {
          "base_uri": "https://localhost:8080/",
          "height": 541
        },
        "outputId": "621105aa-ee07-452c-b487-4c3b58ffb893"
      },
      "source": [
        "plot_graphs(history, 'accuracy')\n",
        "plot_graphs(history, 'loss')"
      ],
      "execution_count": 18,
      "outputs": [
        {
          "output_type": "display_data",
          "data": {
            "image/png": "[encoded data removed]",
            "text/plain": [
              "<Figure size 432x288 with 1 Axes>"
            ]
          },
          "metadata": {
            "tags": [],
            "needs_background": "light"
          }
        },
        {
          "output_type": "display_data",
          "data": {
            "image/png": "[encoded data removed]",
            "text/plain": [
              "<Figure size 432x288 with 1 Axes>"
            ]
          },
          "metadata": {
            "tags": [],
            "needs_background": "light"
          }
        }
      ]
    },
    {
      "cell_type": "code",
      "metadata": {
        "id": "F6n5Wl--d-Jg",
        "colab_type": "code",
        "colab": {}
      },
      "source": [
        ""
      ],
      "execution_count": 0,
      "outputs": []
    }
  ]
}