{
  "nbformat": 4,
  "nbformat_minor": 0,
  "metadata": {
    "accelerator": "GPU",
    "colab": {
      "name": "Sarcasm with Bidirectional LSTM.ipynb",
      "provenance": [],
      "collapsed_sections": [],
      "toc_visible": true
    },
    "kernelspec": {
      "display_name": "Python 3",
      "name": "python3"
    }
  },
  "cells": [
    {
      "cell_type": "code",
      "metadata": {
        "id": "zX4Kg8DUTKWO",
        "colab_type": "code",
        "colab": {}
      },
      "source": [
        "#@title Licensed under the Apache License, Version 2.0 (the \"License\");\n",
        "# you may not use this file except in compliance with the License.\n",
        "# You may obtain a copy of the License at\n",
        "#\n",
        "# https://www.apache.org/licenses/LICENSE-2.0\n",
        "#\n",
        "# Unless required by applicable law or agreed to in writing, software\n",
        "# distributed under the License is distributed on an \"AS IS\" BASIS,\n",
        "# WITHOUT WARRANTIES OR CONDITIONS OF ANY KIND, either express or implied.\n",
        "# See the License for the specific language governing permissions and\n",
        "# limitations under the License."
      ],
      "execution_count": 0,
      "outputs": []
    },
    {
      "cell_type": "code",
      "metadata": {
        "colab_type": "code",
        "id": "jGwXGIXvFhXW",
        "outputId": "645ea93b-561a-4962-a204-e49152d78299",
        "colab": {
          "base_uri": "https://localhost:8080/",
          "height": 1000
        }
      },
      "source": [
        "import json\n",
        "import tensorflow as tf\n",
        "import numpy as np\n",
        "\n",
        "\n",
        "from tensorflow.keras.preprocessing.text import Tokenizer\n",
        "from tensorflow.keras.preprocessing.sequence import pad_sequences\n",
        "\n",
        "!wget --no-check-certificate \\\n",
        "    https://storage.googleapis.com/laurencemoroney-blog.appspot.com/sarcasm.json \\\n",
        "    -O /tmp/sarcasm.json\n",
        "\n",
        "vocab_size = 1000\n",
        "embedding_dim = 16\n",
        "max_length = 120\n",
        "trunc_type='post'\n",
        "padding_type='post'\n",
        "oov_tok = \"<OOV>\"\n",
        "training_size = 20000\n",
        "\n",
        "\n",
        "with open(\"/tmp/sarcasm.json\", 'r') as f:\n",
        "    datastore = json.load(f)\n",
        "\n",
        "\n",
        "sentences = []\n",
        "labels = []\n",
        "urls = []\n",
        "for item in datastore:\n",
        "    sentences.append(item['headline'])\n",
        "    labels.append(item['is_sarcastic'])\n",
        "\n",
        "training_sentences = sentences[0:training_size]\n",
        "testing_sentences = sentences[training_size:]\n",
        "training_labels = labels[0:training_size]\n",
        "testing_labels = labels[training_size:]\n",
        "\n",
        "tokenizer = Tokenizer(num_words=vocab_size, oov_token=oov_tok)\n",
        "tokenizer.fit_on_texts(training_sentences)\n",
        "\n",
        "word_index = tokenizer.word_index\n",
        "\n",
        "training_sequences = tokenizer.texts_to_sequences(training_sentences)\n",
        "training_padded = pad_sequences(training_sequences, maxlen=max_length, padding=padding_type, truncating=trunc_type)\n",
        "\n",
        "testing_sequences = tokenizer.texts_to_sequences(testing_sentences)\n",
        "testing_padded = pad_sequences(testing_sequences, maxlen=max_length, padding=padding_type, truncating=trunc_type)\n",
        "\n",
        "model = tf.keras.Sequential([\n",
        "    tf.keras.layers.Embedding(vocab_size, embedding_dim, input_length=max_length),\n",
        "    tf.keras.layers.Bidirectional(tf.keras.layers.LSTM(32)),\n",
        "    tf.keras.layers.Dense(24, activation='relu'),\n",
        "    tf.keras.layers.Dense(1, activation='sigmoid')\n",
        "])\n",
        "model.compile(loss='binary_crossentropy',optimizer='adam',metrics=['accuracy'])\n",
        "model.summary()\n",
        "\n",
        "num_epochs = 50\n",
        "training_padded = np.array(training_padded)\n",
        "training_labels = np.array(training_labels)\n",
        "testing_padded = np.array(testing_padded)\n",
        "testing_labels = np.array(testing_labels)\n",
        "history = model.fit(training_padded, training_labels, epochs=num_epochs, validation_data=(testing_padded, testing_labels), verbose=1)\n"
      ],
      "execution_count": 0,
      "outputs": [
        {
          "output_type": "stream",
          "text": [
            "--2020-05-09 18:39:35--  https://storage.googleapis.com/laurencemoroney-blog.appspot.com/sarcasm.json\n",
            "Resolving storage.googleapis.com (storage.googleapis.com)... 64.233.189.128, 2404:6800:4008:c07::80\n",
            "Connecting to storage.googleapis.com (storage.googleapis.com)|64.233.189.128|:443... connected.\n",
            "HTTP request sent, awaiting response... 200 OK\n",
            "Length: 5643545 (5.4M) [application/json]\n",
            "Saving to: ‘/tmp/sarcasm.json’\n",
            "\n",
            "\r/tmp/sarcasm.json     0%[                    ]       0  --.-KB/s               \r/tmp/sarcasm.json   100%[===================>]   5.38M  --.-KB/s    in 0.05s   \n",
            "\n",
            "2020-05-09 18:39:35 (118 MB/s) - ‘/tmp/sarcasm.json’ saved [5643545/5643545]\n",
            "\n",
            "Model: \"sequential_1\"\n",
            "_________________________________________________________________\n",
            "Layer (type)                 Output Shape              Param #   \n",
            "=================================================================\n",
            "embedding_1 (Embedding)      (None, 120, 16)           16000     \n",
            "_________________________________________________________________\n",
            "bidirectional_1 (Bidirection (None, 64)                12544     \n",
            "_________________________________________________________________\n",
            "dense_2 (Dense)              (None, 24)                1560      \n",
            "_________________________________________________________________\n",
            "dense_3 (Dense)              (None, 1)                 25        \n",
            "=================================================================\n",
            "Total params: 30,129\n",
            "Trainable params: 30,129\n",
            "Non-trainable params: 0\n",
            "_________________________________________________________________\n",
            "Epoch 1/50\n",
            "625/625 [==============================] - 11s 17ms/step - loss: 0.4506 - accuracy: 0.7744 - val_loss: 0.4062 - val_accuracy: 0.8129\n",
            "Epoch 2/50\n",
            "625/625 [==============================] - 10s 16ms/step - loss: 0.3457 - accuracy: 0.8424 - val_loss: 0.4009 - val_accuracy: 0.8117\n",
            "Epoch 3/50\n",
            "625/625 [==============================] - 10s 16ms/step - loss: 0.3223 - accuracy: 0.8542 - val_loss: 0.3703 - val_accuracy: 0.8299\n",
            "Epoch 4/50\n",
            "625/625 [==============================] - 10s 16ms/step - loss: 0.3055 - accuracy: 0.8647 - val_loss: 0.3727 - val_accuracy: 0.8328\n",
            "Epoch 5/50\n",
            "625/625 [==============================] - 10s 16ms/step - loss: 0.2947 - accuracy: 0.8680 - val_loss: 0.4031 - val_accuracy: 0.8161\n",
            "Epoch 6/50\n",
            "625/625 [==============================] - 10s 16ms/step - loss: 0.2855 - accuracy: 0.8744 - val_loss: 0.3830 - val_accuracy: 0.8332\n",
            "Epoch 7/50\n",
            "625/625 [==============================] - 10s 16ms/step - loss: 0.2781 - accuracy: 0.8776 - val_loss: 0.4188 - val_accuracy: 0.8302\n",
            "Epoch 8/50\n",
            "625/625 [==============================] - 10s 16ms/step - loss: 0.2707 - accuracy: 0.8831 - val_loss: 0.3850 - val_accuracy: 0.8314\n",
            "Epoch 9/50\n",
            "625/625 [==============================] - 10s 16ms/step - loss: 0.2668 - accuracy: 0.8852 - val_loss: 0.4010 - val_accuracy: 0.8258\n",
            "Epoch 10/50\n",
            "625/625 [==============================] - 10s 16ms/step - loss: 0.2614 - accuracy: 0.8874 - val_loss: 0.3966 - val_accuracy: 0.8271\n",
            "Epoch 11/50\n",
            "625/625 [==============================] - 10s 16ms/step - loss: 0.2571 - accuracy: 0.8882 - val_loss: 0.4141 - val_accuracy: 0.8246\n",
            "Epoch 12/50\n",
            "625/625 [==============================] - 10s 16ms/step - loss: 0.2515 - accuracy: 0.8907 - val_loss: 0.4258 - val_accuracy: 0.8238\n",
            "Epoch 13/50\n",
            "625/625 [==============================] - 10s 16ms/step - loss: 0.2456 - accuracy: 0.8930 - val_loss: 0.4178 - val_accuracy: 0.8244\n",
            "Epoch 14/50\n",
            "625/625 [==============================] - 10s 16ms/step - loss: 0.2383 - accuracy: 0.8981 - val_loss: 0.4389 - val_accuracy: 0.8238\n",
            "Epoch 15/50\n",
            "625/625 [==============================] - 10s 16ms/step - loss: 0.2321 - accuracy: 0.9000 - val_loss: 0.4517 - val_accuracy: 0.8232\n",
            "Epoch 16/50\n",
            "625/625 [==============================] - 10s 15ms/step - loss: 0.2246 - accuracy: 0.9042 - val_loss: 0.4559 - val_accuracy: 0.8262\n",
            "Epoch 17/50\n",
            "625/625 [==============================] - 10s 16ms/step - loss: 0.2171 - accuracy: 0.9082 - val_loss: 0.4689 - val_accuracy: 0.8207\n",
            "Epoch 18/50\n",
            "625/625 [==============================] - 10s 15ms/step - loss: 0.2095 - accuracy: 0.9121 - val_loss: 0.4890 - val_accuracy: 0.8193\n",
            "Epoch 19/50\n",
            "625/625 [==============================] - 10s 16ms/step - loss: 0.2032 - accuracy: 0.9169 - val_loss: 0.5332 - val_accuracy: 0.8174\n",
            "Epoch 20/50\n",
            "625/625 [==============================] - 10s 16ms/step - loss: 0.1991 - accuracy: 0.9166 - val_loss: 0.5342 - val_accuracy: 0.8176\n",
            "Epoch 21/50\n",
            "625/625 [==============================] - 10s 16ms/step - loss: 0.1895 - accuracy: 0.9219 - val_loss: 0.5541 - val_accuracy: 0.8161\n",
            "Epoch 22/50\n",
            "625/625 [==============================] - 10s 15ms/step - loss: 0.1848 - accuracy: 0.9233 - val_loss: 0.5315 - val_accuracy: 0.8179\n",
            "Epoch 23/50\n",
            "625/625 [==============================] - 10s 15ms/step - loss: 0.1779 - accuracy: 0.9256 - val_loss: 0.5995 - val_accuracy: 0.8122\n",
            "Epoch 24/50\n",
            "625/625 [==============================] - 10s 15ms/step - loss: 0.2096 - accuracy: 0.9196 - val_loss: 0.5724 - val_accuracy: 0.8111\n",
            "Epoch 25/50\n",
            "625/625 [==============================] - 10s 16ms/step - loss: 0.1693 - accuracy: 0.9301 - val_loss: 0.6440 - val_accuracy: 0.8079\n",
            "Epoch 26/50\n",
            "625/625 [==============================] - 10s 15ms/step - loss: 0.1589 - accuracy: 0.9347 - val_loss: 0.6392 - val_accuracy: 0.8013\n",
            "Epoch 27/50\n",
            "625/625 [==============================] - 10s 16ms/step - loss: 0.1555 - accuracy: 0.9352 - val_loss: 0.7043 - val_accuracy: 0.8083\n",
            "Epoch 28/50\n",
            "625/625 [==============================] - 10s 15ms/step - loss: 0.1514 - accuracy: 0.9377 - val_loss: 0.7459 - val_accuracy: 0.8049\n",
            "Epoch 29/50\n",
            "625/625 [==============================] - 10s 16ms/step - loss: 0.1416 - accuracy: 0.9420 - val_loss: 0.7581 - val_accuracy: 0.7955\n",
            "Epoch 30/50\n",
            "625/625 [==============================] - 10s 16ms/step - loss: 0.1399 - accuracy: 0.9413 - val_loss: 0.8326 - val_accuracy: 0.8095\n",
            "Epoch 31/50\n",
            "625/625 [==============================] - 10s 15ms/step - loss: 0.1341 - accuracy: 0.9430 - val_loss: 0.8125 - val_accuracy: 0.8053\n",
            "Epoch 32/50\n",
            "625/625 [==============================] - 10s 16ms/step - loss: 0.1268 - accuracy: 0.9478 - val_loss: 0.8279 - val_accuracy: 0.8094\n",
            "Epoch 33/50\n",
            "625/625 [==============================] - 10s 16ms/step - loss: 0.1219 - accuracy: 0.9506 - val_loss: 0.8706 - val_accuracy: 0.8053\n",
            "Epoch 34/50\n",
            "625/625 [==============================] - 10s 16ms/step - loss: 0.1127 - accuracy: 0.9536 - val_loss: 0.9772 - val_accuracy: 0.8006\n",
            "Epoch 35/50\n",
            "625/625 [==============================] - 10s 15ms/step - loss: 0.1156 - accuracy: 0.9519 - val_loss: 1.0040 - val_accuracy: 0.8040\n",
            "Epoch 36/50\n",
            "625/625 [==============================] - 10s 16ms/step - loss: 0.1103 - accuracy: 0.9546 - val_loss: 1.0203 - val_accuracy: 0.8028\n",
            "Epoch 37/50\n",
            "625/625 [==============================] - 10s 15ms/step - loss: 0.1003 - accuracy: 0.9579 - val_loss: 1.2248 - val_accuracy: 0.7959\n",
            "Epoch 38/50\n",
            "625/625 [==============================] - 10s 16ms/step - loss: 0.0937 - accuracy: 0.9617 - val_loss: 1.1502 - val_accuracy: 0.7964\n",
            "Epoch 39/50\n",
            "625/625 [==============================] - 10s 16ms/step - loss: 0.0971 - accuracy: 0.9606 - val_loss: 1.2524 - val_accuracy: 0.7970\n",
            "Epoch 40/50\n",
            "625/625 [==============================] - 10s 16ms/step - loss: 0.0957 - accuracy: 0.9614 - val_loss: 1.2865 - val_accuracy: 0.7958\n",
            "Epoch 41/50\n",
            "625/625 [==============================] - 10s 16ms/step - loss: 0.0931 - accuracy: 0.9613 - val_loss: 1.2016 - val_accuracy: 0.7977\n",
            "Epoch 42/50\n",
            "625/625 [==============================] - 10s 16ms/step - loss: 0.0854 - accuracy: 0.9646 - val_loss: 1.3489 - val_accuracy: 0.7964\n",
            "Epoch 43/50\n",
            "625/625 [==============================] - 10s 15ms/step - loss: 0.0761 - accuracy: 0.9678 - val_loss: 1.5034 - val_accuracy: 0.8043\n",
            "Epoch 44/50\n",
            "625/625 [==============================] - 10s 16ms/step - loss: 0.0774 - accuracy: 0.9681 - val_loss: 1.4437 - val_accuracy: 0.7953\n",
            "Epoch 45/50\n",
            "625/625 [==============================] - 10s 16ms/step - loss: 0.0850 - accuracy: 0.9644 - val_loss: 1.3660 - val_accuracy: 0.7909\n",
            "Epoch 46/50\n",
            "625/625 [==============================] - 10s 16ms/step - loss: 0.0732 - accuracy: 0.9692 - val_loss: 1.5133 - val_accuracy: 0.7980\n",
            "Epoch 47/50\n",
            "625/625 [==============================] - 10s 15ms/step - loss: 0.0668 - accuracy: 0.9711 - val_loss: 1.6559 - val_accuracy: 0.7934\n",
            "Epoch 48/50\n",
            "625/625 [==============================] - 10s 16ms/step - loss: 0.0761 - accuracy: 0.9672 - val_loss: 1.6725 - val_accuracy: 0.7945\n",
            "Epoch 49/50\n",
            "625/625 [==============================] - 10s 16ms/step - loss: 0.0685 - accuracy: 0.9712 - val_loss: 1.5843 - val_accuracy: 0.7894\n",
            "Epoch 50/50\n",
            "625/625 [==============================] - 10s 15ms/step - loss: 0.0658 - accuracy: 0.9721 - val_loss: 1.6607 - val_accuracy: 0.7886\n"
          ],
          "name": "stdout"
        }
      ]
    },
    {
      "cell_type": "code",
      "metadata": {
        "colab_type": "code",
        "id": "g9DC6dmLF8DC",
        "outputId": "dcf7b9f3-4a76-4a4a-b968-226410da5e01",
        "colab": {
          "base_uri": "https://localhost:8080/",
          "height": 541
        }
      },
      "source": [
        "import matplotlib.pyplot as plt\n",
        "\n",
        "\n",
        "def plot_graphs(history, string):\n",
        "  plt.plot(history.history[string])\n",
        "  plt.plot(history.history['val_'+string])\n",
        "  plt.xlabel(\"Epochs\")\n",
        "  plt.ylabel(string)\n",
        "  plt.legend([string, 'val_'+string])\n",
        "  plt.show()\n",
        "\n",
        "plot_graphs(history, 'accuracy')\n",
        "plot_graphs(history, 'loss')"
      ],
      "execution_count": 0,
      "outputs": [
        {
          "output_type": "display_data",
          "data": {
            "image/png": "[encoded data removed]",
            "text/plain": [
              "<Figure size 432x288 with 1 Axes>"
            ]
          },
          "metadata": {
            "tags": [],
            "needs_background": "light"
          }
        },
        {
          "output_type": "display_data",
          "data": {
            "image/png": "[encoded data removed]",
            "text/plain": [
              "<Figure size 432x288 with 1 Axes>"
            ]
          },
          "metadata": {
            "tags": [],
            "needs_background": "light"
          }
        }
      ]
    },
    {
      "cell_type": "code",
      "metadata": {
        "colab_type": "code",
        "id": "7ZEZIUppGhdi",
        "colab": {}
      },
      "source": [
        "model.save(\"test.h5\")"
      ],
      "execution_count": 0,
      "outputs": []
    },
    {
      "cell_type": "code",
      "metadata": {
        "id": "qs5dJLVrxGpm",
        "colab_type": "code",
        "colab": {}
      },
      "source": [
        ""
      ],
      "execution_count": 0,
      "outputs": []
    }
  ]
}